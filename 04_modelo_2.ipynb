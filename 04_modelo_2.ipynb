{
 "cells": [
  {
   "cell_type": "code",
   "execution_count": null,
   "id": "d9ea962b",
   "metadata": {},
   "outputs": [
    {
     "name": "stdout",
     "output_type": "stream",
     "text": [
      "Best params: {'C': np.float64(793.2047656808546), 'gamma': np.float64(0.0006287891005408561), 'kernel': 'rbf'}\n",
      "MSE: 31786.432449629392\n",
      "R2: 0.8425277687370254\n",
      "Confusion Matrix (with 4 bins):\n",
      " [[302  48   9  10]\n",
      " [ 63 258  40   7]\n",
      " [  4  62 289  13]\n",
      " [  0   0  30 339]]\n"
     ]
    }
   ],
   "source": [
    "import numpy as np\n",
    "import pandas as pd\n",
    "from sklearn.svm import SVR\n",
    "from sklearn.model_selection import RandomizedSearchCV, train_test_split\n",
    "from sklearn.metrics import mean_squared_error, r2_score,confusion_matrix\n",
    "from scipy.stats import expon, reciprocal\n",
    "\n",
    "# Datos preprocesados\n",
    "data = np.load('datos_preprocesados.npz')\n",
    "X = data['X']\n",
    "\n",
    "# Lee el DF y el target, 'sy_pm'\n",
    "df = pd.read_csv('06_dataset.csv', skiprows=322)\n",
    "\n",
    "df['sy_pm'] = df['sy_pm'].fillna(df['sy_pm'].mode()[0])\n",
    "y = df['sy_pm'].values\n",
    "\n",
    "# Hace el split de train y test\n",
    "X_train, X_test, y_train, y_test = train_test_split(X, y, random_state=42)\n",
    "\n",
    "# Random search para regresión\n",
    "param_dist = {'C': reciprocal(1e-3, 1e3), 'gamma': expon(scale=1e-3), 'kernel': ['rbf', 'poly']}\n",
    "rand = RandomizedSearchCV(SVR(), param_dist, n_iter=20, cv=5, n_jobs=-1, random_state=42)\n",
    "rand.fit(X_train, y_train)\n",
    "print(\"Best params:\", rand.best_params_)\n",
    "\n",
    "# Evaluacion\n",
    "y_pred = rand.predict(X_test)\n",
    "print(\"\\nMSE:\", mean_squared_error(y_test, y_pred))\n",
    "print(\"R2:\", r2_score(y_test, y_pred))\n",
    "np.save('y_pred_model2.npy', y_pred)\n",
    "\n",
    "# Binning para matriz de confusión\n",
    "n_bins = 4\n",
    "y_test_bin = pd.qcut(y_test, q=n_bins, labels=False, duplicates='drop')\n",
    "y_pred_bin = pd.qcut(y_pred, q=n_bins, labels=False, duplicates='drop')\n",
    "\n",
    "# Matriz de confusión\n",
    "cm = confusion_matrix(y_test_bin, y_pred_bin)\n",
    "print(\"\\nMatriz de confusion (4 bins):\\n\", cm)"
   ]
  }
 ],
 "metadata": {
  "kernelspec": {
   "display_name": "Python 3",
   "language": "python",
   "name": "python3"
  },
  "language_info": {
   "codemirror_mode": {
    "name": "ipython",
    "version": 3
   },
   "file_extension": ".py",
   "mimetype": "text/x-python",
   "name": "python",
   "nbconvert_exporter": "python",
   "pygments_lexer": "ipython3",
   "version": "3.12.1"
  }
 },
 "nbformat": 4,
 "nbformat_minor": 5
}
