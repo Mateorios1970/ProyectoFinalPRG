{
 "cells": [
  {
   "cell_type": "code",
   "execution_count": 3,
   "id": "4c0af20d",
   "metadata": {},
   "outputs": [
    {
     "name": "stderr",
     "output_type": "stream",
     "text": [
      "/Library/Frameworks/Python.framework/Versions/3.12/lib/python3.12/site-packages/sklearn/impute/_base.py:635: UserWarning: Skipping features without any observed values: [ 26  27 231 232]. At least one non-missing value is needed for imputation with strategy='mean'.\n",
      "  warnings.warn(\n"
     ]
    },
    {
     "name": "stdout",
     "output_type": "stream",
     "text": [
      "Preprocesado (5893, 236)\n"
     ]
    }
   ],
   "source": [
    "# %% \n",
    "import pandas as pd\n",
    "import numpy as np\n",
    "from sklearn.impute import SimpleImputer\n",
    "from sklearn.preprocessing import StandardScaler\n",
    "\n",
    "# Leer CSV saltando 322 filas\n",
    "df = pd.read_csv('06_dataset.csv', skiprows=322)\n",
    "df_num = df.select_dtypes(include=[np.number])\n",
    "\n",
    "# Separar X sin target\n",
    "if 'target' in df_num.columns:\n",
    "    X = df_num.drop('target', axis=1).values\n",
    "else:\n",
    "    X = df_num.values\n",
    "\n",
    "# Imputar\n",
    "imp = SimpleImputer(strategy='mean')\n",
    "X_imp = imp.fit_transform(X)\n",
    "\n",
    "# Escalar\n",
    "scaler = StandardScaler()\n",
    "X_scaled = scaler.fit_transform(X_imp)\n",
    "\n",
    "# Guardar\n",
    "np.savez_compressed('datos_preprocesados.npz', X=X_scaled)\n",
    "print(\"Preprocesado\", X_scaled.shape)"
   ]
  }
 ],
 "metadata": {
  "kernelspec": {
   "display_name": "Python 3",
   "language": "python",
   "name": "python3"
  },
  "language_info": {
   "codemirror_mode": {
    "name": "ipython",
    "version": 3
   },
   "file_extension": ".py",
   "mimetype": "text/x-python",
   "name": "python",
   "nbconvert_exporter": "python",
   "pygments_lexer": "ipython3",
   "version": "3.12.1"
  }
 },
 "nbformat": 4,
 "nbformat_minor": 5
}
