{
 "cells": [
  {
   "cell_type": "code",
   "execution_count": null,
   "id": "2829a4d2",
   "metadata": {},
   "outputs": [
    {
     "name": "stdout",
     "output_type": "stream",
     "text": [
      "Best params: {'max_depth': 20, 'n_estimators': 200}\n",
      "MSE: 406.47017211114115\n",
      "R2: 0.9979863180605242\n",
      "Confusion Matrix (with 4 bins):\n",
      " [[366   1   2   0]\n",
      " [  3 365   0   0]\n",
      " [  0   2 365   1]\n",
      " [  0   0   1 368]]\n"
     ]
    }
   ],
   "source": [
    "import numpy as np\n",
    "import pandas as pd\n",
    "from sklearn.ensemble import RandomForestRegressor\n",
    "from sklearn.model_selection import GridSearchCV, train_test_split\n",
    "from sklearn.metrics import mean_squared_error, r2_score,confusion_matrix\n",
    "\n",
    "# Datos preprocesados\n",
    "data = np.load('datos_preprocesados.npz')\n",
    "X = data['X']\n",
    "\n",
    "# Lee el DF y el target, 'sy_pm'\n",
    "df = pd.read_csv('06_dataset.csv', skiprows=322)\n",
    "\n",
    "df['sy_pm'] = df['sy_pm'].fillna(df['sy_pm'].mode()[0])\n",
    "y = df['sy_pm'].values\n",
    "\n",
    "# Hace el split de train y test\n",
    "X_train, X_test, y_train, y_test = train_test_split(X, y, random_state=42)\n",
    "\n",
    "# GridSearch para regresión\n",
    "param_grid = {'n_estimators':[100,200], 'max_depth':[None,10,20]}\n",
    "grid = GridSearchCV(RandomForestRegressor(random_state=42), param_grid, cv=5, n_jobs=-1)\n",
    "grid.fit(X_train, y_train)\n",
    "print(\"Best params:\", grid.best_params_)\n",
    "\n",
    "# Evaluacion del modelo\n",
    "y_pred = grid.predict(X_test)\n",
    "print(\"MSE:\", mean_squared_error(y_test, y_pred))\n",
    "print(\"R2:\", r2_score(y_test, y_pred))\n",
    "np.save('y_pred_model1.npy', y_pred)\n",
    "\n",
    "# Binning para matriz de confusión\n",
    "n_bins = 4\n",
    "y_test_binned = pd.qcut(y_test, q=n_bins, labels=False, duplicates='drop')\n",
    "y_pred_binned = pd.qcut(y_pred, q=n_bins, labels=False, duplicates='drop')\n",
    "\n",
    "# Matriz de confusión\n",
    "cm = confusion_matrix(y_test_binned, y_pred_binned)\n",
    "print(\"Matriz de confusion (4 bins):\\n\", cm)"
   ]
  }
 ],
 "metadata": {
  "kernelspec": {
   "display_name": "Python 3",
   "language": "python",
   "name": "python3"
  },
  "language_info": {
   "codemirror_mode": {
    "name": "ipython",
    "version": 3
   },
   "file_extension": ".py",
   "mimetype": "text/x-python",
   "name": "python",
   "nbconvert_exporter": "python",
   "pygments_lexer": "ipython3",
   "version": "3.12.1"
  }
 },
 "nbformat": 4,
 "nbformat_minor": 5
}
